{
 "cells": [
  {
   "cell_type": "code",
   "execution_count": null,
   "id": "054479cc",
   "metadata": {},
   "outputs": [],
   "source": [
    "from langchain_community.tools import WikipediaQueryRun\n",
    "from langchain_community.utilities import WikipediaAPIWrapper\n",
    "\n",
    "wikipedia_wrapper = WikipediaAPIWrapper(top_k_results=1 , doc_content_chars_max=200)\n",
    "\n",
    "wikipedia  = WikipediaQueryRun(api_wrapper=wikipedia_wrapper)"
   ]
  },
  {
   "cell_type": "code",
   "execution_count": null,
   "id": "266dffc9",
   "metadata": {},
   "outputs": [],
   "source": [
    "wikipedia.name"
   ]
  },
  {
   "cell_type": "code",
   "execution_count": null,
   "id": "126a94dc",
   "metadata": {},
   "outputs": [],
   "source": [
    "from langchain_community.document_loaders import WebBaseLoader\n",
    "from langchain_community.vectorstores import FAISS\n",
    "from langchain_community.embeddings import HuggingFaceEmbeddings\n",
    "from langchain.text_splitter import RecursiveCharacterTextSplitter\n",
    "\n",
    "loader = WebBaseLoader(\"https://docs.smith.langchain.com/\")\n",
    "docs = loader.load()"
   ]
  },
  {
   "cell_type": "code",
   "execution_count": null,
   "id": "7891e844",
   "metadata": {},
   "outputs": [],
   "source": [
    "docs"
   ]
  },
  {
   "cell_type": "code",
   "execution_count": null,
   "id": "fa667077",
   "metadata": {},
   "outputs": [],
   "source": [
    "rct = RecursiveCharacterTextSplitter(chunk_size=1000 , chunk_overlap=200)\n",
    "documents = rct.split_documents(docs)\n",
    "documents[:20]"
   ]
  },
  {
   "cell_type": "code",
   "execution_count": null,
   "id": "8618bfbb",
   "metadata": {},
   "outputs": [],
   "source": [
    "model_name = \"sentence-transformers/all-mpnet-base-v2\"\n",
    "model_kwargs = {'device': 'cpu'}\n",
    "encode_kwargs = {'normalize_embeddings': False}\n",
    "vectordb = FAISS.from_documents(docs , HuggingFaceEmbeddings(\n",
    "    model_name=model_name,\n",
    "    model_kwargs=model_kwargs,\n",
    "    encode_kwargs=encode_kwargs))"
   ]
  },
  {
   "cell_type": "code",
   "execution_count": null,
   "id": "7618886b",
   "metadata": {},
   "outputs": [],
   "source": [
    "retriever = vectordb.as_retriever()\n",
    "retriever"
   ]
  },
  {
   "cell_type": "code",
   "execution_count": null,
   "id": "97ca3f82",
   "metadata": {},
   "outputs": [],
   "source": [
    "from langchain.tools.retriever import create_retriever_tool\n",
    "retriever_tool = create_retriever_tool(retriever , \"LangSmith_Search\" ,\"Search for any queries related to Langchain chains\")"
   ]
  },
  {
   "cell_type": "code",
   "execution_count": null,
   "id": "c94bbef2",
   "metadata": {},
   "outputs": [],
   "source": [
    "retriever_tool"
   ]
  },
  {
   "cell_type": "code",
   "execution_count": null,
   "id": "2f967ad9",
   "metadata": {},
   "outputs": [],
   "source": [
    "from langchain_community.tools import ArxivQueryRun\n",
    "from langchain_community.utilities import ArxivAPIWrapper\n",
    "\n",
    "arxiv_wrapper = ArxivAPIWrapper(top_k_results=1 , doc_content_chars_max=200)\n",
    "\n",
    "arxiv = ArxivQueryRun(api_wrapper=arxiv_wrapper)\n",
    "arxiv.name"
   ]
  },
  {
   "cell_type": "code",
   "execution_count": null,
   "id": "4d621eb3",
   "metadata": {},
   "outputs": [],
   "source": [
    "tools = [wikipedia , arxiv , retriever_tool]"
   ]
  },
  {
   "cell_type": "code",
   "execution_count": null,
   "id": "cdbf43db",
   "metadata": {},
   "outputs": [],
   "source": [
    "from langchain_openai import ChatOpenAI\n",
    "import os\n",
    "from dotenv import load_dotenv\n",
    "load_dotenv()\n",
    "OPENAI_API_KEY = os.getenv('OPENAI_API_TOGETHER_API')\n",
    "llm = ChatOpenAI(\n",
    "    model=\"meta-llama/Llama-3.3-70B-Instruct-Turbo\",\n",
    "    openai_api_key=OPENAI_API_KEY,\n",
    "    openai_api_base=\"https://api.together.xyz/v1\",\n",
    "    temperature = 0\n",
    ")"
   ]
  },
  {
   "cell_type": "code",
   "execution_count": null,
   "id": "794bf7c9",
   "metadata": {},
   "outputs": [],
   "source": [
    "from langchain import hub\n",
    "\n",
    "prompt = hub.pull(\"hwchase17/openai-functions-agent\")\n",
    "prompt.messages"
   ]
  },
  {
   "cell_type": "code",
   "execution_count": null,
   "id": "4824d095",
   "metadata": {},
   "outputs": [],
   "source": [
    "from langchain.agents import create_openai_tools_agent\n",
    "agent = create_openai_tools_agent(llm , tools , prompt)"
   ]
  },
  {
   "cell_type": "code",
   "execution_count": null,
   "id": "107f840e",
   "metadata": {},
   "outputs": [],
   "source": [
    "from langchain.agents import AgentExecutor\n",
    "\n",
    "agent_executor = AgentExecutor(agent=agent , tools=tools , verbose=True)"
   ]
  },
  {
   "cell_type": "code",
   "execution_count": null,
   "id": "9d0beb07",
   "metadata": {},
   "outputs": [],
   "source": [
    "agent_executor"
   ]
  },
  {
   "cell_type": "code",
   "execution_count": null,
   "id": "5cc4de07",
   "metadata": {},
   "outputs": [],
   "source": [
    "query = agent_executor.invoke({\"input\":\"What is the paper 1605.08386 about\"})"
   ]
  },
  {
   "cell_type": "code",
   "execution_count": null,
   "id": "64efe82a",
   "metadata": {},
   "outputs": [],
   "source": [
    "query['output']"
   ]
  },
  {
   "cell_type": "code",
   "execution_count": null,
   "id": "22d47a29",
   "metadata": {},
   "outputs": [],
   "source": []
  }
 ],
 "metadata": {
  "kernelspec": {
   "display_name": "venv",
   "language": "python",
   "name": "python3"
  },
  "language_info": {
   "codemirror_mode": {
    "name": "ipython",
    "version": 3
   },
   "file_extension": ".py",
   "mimetype": "text/x-python",
   "name": "python",
   "nbconvert_exporter": "python",
   "pygments_lexer": "ipython3",
   "version": "3.12.7"
  }
 },
 "nbformat": 4,
 "nbformat_minor": 5
}
